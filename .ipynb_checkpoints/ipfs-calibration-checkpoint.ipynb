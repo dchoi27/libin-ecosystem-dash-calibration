{
 "cells": [
  {
   "cell_type": "code",
   "execution_count": 1,
   "id": "painted-centre",
   "metadata": {},
   "outputs": [],
   "source": [
    "import requests\n",
    "import json\n",
    "from pprint import pprint"
   ]
  },
  {
   "cell_type": "markdown",
   "id": "together-check",
   "metadata": {},
   "source": [
    "## add parameters to two queries"
   ]
  },
  {
   "cell_type": "code",
   "execution_count": 2,
   "id": "dental-consultancy",
   "metadata": {},
   "outputs": [],
   "source": [
    "params1 = {\n",
    "    #'start_date': '2020-12-01',\n",
    "    #'end_date: 2021-02-24',\n",
    "    'threshold': 5,\n",
    "    'window': 'week',\n",
    "    'dependency_threshold': 1\n",
    "}"
   ]
  },
  {
   "cell_type": "code",
   "execution_count": 3,
   "id": "essential-saturday",
   "metadata": {},
   "outputs": [],
   "source": [
    "params2 = {\n",
    "    #'start_date': '2020-12-01',\n",
    "    #'end_date: 2021-02-24',\n",
    "    'threshold': 5,\n",
    "    'window': 'week',\n",
    "    'dependency_threshold': 1\n",
    "}"
   ]
  },
  {
   "cell_type": "code",
   "execution_count": 4,
   "id": "minus-slovenia",
   "metadata": {},
   "outputs": [],
   "source": [
    "data1 = json.loads(requests.get('https://ipfs.ecosystem-dashboard.com/repositories/states.json').content)\n",
    "data2 = json.loads(requests.get('https://ipfs.ecosystem-dashboard.com/repositories/states.json').content)"
   ]
  },
  {
   "cell_type": "code",
   "execution_count": 5,
   "id": "racial-begin",
   "metadata": {},
   "outputs": [
    {
     "data": {
      "text/plain": [
       "[{'date': '2021-02-08',\n",
       "  'states': {'first': [{'repo_name': 'lanmower/chakrachain', 'score': 47},\n",
       "    {'repo_name': 'twos-complement/eth-denver-2021', 'score': 25},\n",
       "    {'repo_name': 'gnosis/dex-swap', 'score': 22},\n",
       "    {'repo_name': 'MdRezaIslam/LsvSwap', 'score': 19},\n",
       "    {'repo_name': 'soumyapal96/soumyapal96.github.io', 'score': 16},\n",
       "    {'repo_name': 'Syazaaulia/uniswap-interface', 'score': 15},\n",
       "    {'repo_name': 'goosedefi/goose-frontend-amm', 'score': 12},\n",
       "    {'repo_name': 'ragsav/copybin_front', 'score': 11},\n",
       "    {'repo_name': 'pangolindex/interface', 'score': 10},\n",
       "    {'repo_name': 'georgebrown-blockchain-2019-2020/GBC_DESIGN_PATTERNS_simple-ipfs-demo',\n",
       "     'score': 9},\n",
       "    {'repo_name': 'yathartharora/My-decentralised-Blog', 'score': 8},\n",
       "    {'repo_name': 'LuckShiba/sipfs', 'score': 7},\n",
       "    {'repo_name': 'PsychoLlama/dddns', 'score': 7},\n",
       "    {'repo_name': 'miguelcnf/hmf', 'score': 7},\n",
       "    {'repo_name': 'pkdcryptos/https-github.com-pancakeswap-pancake-swap-interface',\n",
       "     'score': 7},\n",
       "    {'repo_name': 'Satellite-im/Satellite', 'score': 6},\n",
       "    {'repo_name': 'dejano-with-tie/libp2p-hello-world', 'score': 6},\n",
       "    {'repo_name': 'publu/beta.supersonic.page', 'score': 5},\n",
       "    {'repo_name': 'rubengue/descentralize-user-profile', 'score': 5},\n",
       "    {'repo_name': 'sarangparikh22/swapper-swap', 'score': 5},\n",
       "    {'repo_name': 'acolytec3/arweave-mnemonic-keys', 'score': 4},\n",
       "    {'repo_name': 'buchhlz2/dvideo', 'score': 4},\n",
       "    {'repo_name': 'ethereum-optimism/snx-transfer-tracker', 'score': 4},\n",
       "    {'repo_name': 'jeppojeps/libp2ptest', 'score': 4},\n",
       "    {'repo_name': 'sesameJar/denver-front-end', 'score': 4},\n",
       "    {'repo_name': 'Ministry-of-Decentralization/skale_manager_subgraph',\n",
       "     'score': 3},\n",
       "    {'repo_name': 'PubNpoolCash/lotus', 'score': 3},\n",
       "    {'repo_name': 'jaydev2020/Shan', 'score': 3},\n",
       "    {'repo_name': 'mhkna/chainclub', 'score': 3},\n",
       "    {'repo_name': 'pi0neerpat/protocol-monorepo', 'score': 3},\n",
       "    {'repo_name': 'pratikit007/IPFS-LabWork', 'score': 3},\n",
       "    {'repo_name': 'SYL0/DeBox', 'score': 2},\n",
       "    {'repo_name': 'Vegeswap/vege-swap-interface', 'score': 2},\n",
       "    {'repo_name': 'adewemimo/gbc-ipfs_demo', 'score': 2},\n",
       "    {'repo_name': 'cookunijs/uniswap-modal', 'score': 2},\n",
       "    {'repo_name': 'cryptosoulgame/SubstrateUI', 'score': 2},\n",
       "    {'repo_name': 'georgebrown-blockchain-2019-2020/GBC_DESIGN_PATTERNS_ipfs-demo',\n",
       "     'score': 2},\n",
       "    {'repo_name': 'mglezos1/IPFS_project', 'score': 2},\n",
       "    {'repo_name': 'pkdcryptos/https-github.com-goosedefi-goose-frontend-amm',\n",
       "     'score': 2},\n",
       "    {'repo_name': 'ElrondNetwork/elrond-go-testing', 'score': 1},\n",
       "    {'repo_name': 'INFURA/ipfs-http-api-docs-archived', 'score': 1},\n",
       "    {'repo_name': 'UniLend/unilend-exchange-interface', 'score': 1},\n",
       "    {'repo_name': 'dcntrlzd/pheme-kit', 'score': 1},\n",
       "    {'repo_name': 'lacchain/cross-border-front', 'score': 1},\n",
       "    {'repo_name': 'mridul4101/IEEE-Mega_Project-BLOCKED', 'score': 1},\n",
       "    {'repo_name': 'sav3org/sav3-react', 'score': 1}]}},\n",
       " {'date': '2021-02-15',\n",
       "  'states': {'first': [{'repo_name': 'taijusanagi/chocomint', 'score': 55},\n",
       "    {'repo_name': 'Darkstar04/DT', 'score': 54},\n",
       "    {'repo_name': 'ivanms1/dapp-forge', 'score': 52},\n",
       "    {'repo_name': 'wojciech-cichocki/libp2p', 'score': 33},\n",
       "    {'repo_name': 'Darkstar04/DT1', 'score': 27},\n",
       "    {'repo_name': 'shitiz-dev/qait', 'score': 27},\n",
       "    {'repo_name': 'windingtree/org.id-bot', 'score': 23},\n",
       "    {'repo_name': 'btimby/nimtok', 'score': 19},\n",
       "    {'repo_name': 'saltswap/salt-frontend-amm', 'score': 14},\n",
       "    {'repo_name': 'LizetteO/IpFS-updater', 'score': 13},\n",
       "    {'repo_name': 'gagedex/bonsai', 'score': 10},\n",
       "    {'repo_name': 'kimochi-project/mochi-swap-frontend', 'score': 10},\n",
       "    {'repo_name': 'BladeMcCool/IPFS-Social-Graph', 'score': 9},\n",
       "    {'repo_name': 'bbepis/PoggerTTV', 'score': 7},\n",
       "    {'repo_name': 'Electronic-Signatures-Industries/xdv-universal-wallet',\n",
       "     'score': 6},\n",
       "    {'repo_name': 'SaneelDaniel/mock-DApp-dropbox', 'score': 6},\n",
       "    {'repo_name': 'TheRetrig/asclepius-vue-app', 'score': 6},\n",
       "    {'repo_name': 'Web3-API/web3hub', 'score': 6},\n",
       "    {'repo_name': '549869500/cuiswap', 'score': 5},\n",
       "    {'repo_name': 'EthTrader/donut.distribution', 'score': 5},\n",
       "    {'repo_name': 'PatrickAlphaC/ipfs_cl_ea', 'score': 5},\n",
       "    {'repo_name': 'aceblockID/aceblock-OIDC-client', 'score': 5},\n",
       "    {'repo_name': 'ethereum-optimism/optimism-bridge-ui', 'score': 5},\n",
       "    {'repo_name': 'jacob-tucker/ReKt', 'score': 5},\n",
       "    {'repo_name': 'Reswap-DEX/reswap-interface', 'score': 4},\n",
       "    {'repo_name': 'plantimals/ipfsrss', 'score': 4},\n",
       "    {'repo_name': 'KahanMajmudar/block-dem-chains', 'score': 3},\n",
       "    {'repo_name': 'ManishChain/itc2', 'score': 3},\n",
       "    {'repo_name': 'MauroMombelli/housekeeper', 'score': 3},\n",
       "    {'repo_name': 'ajinkyapj/IPFS', 'score': 3},\n",
       "    {'repo_name': 'ajinkyapj/My-Projects', 'score': 3},\n",
       "    {'repo_name': 'eh7/p2p-network', 'score': 3},\n",
       "    {'repo_name': 'luxumbra/metafam-seed-pool', 'score': 3},\n",
       "    {'repo_name': 'oatswap/oatswap-exchange-frontend', 'score': 3},\n",
       "    {'repo_name': 'skilled-master/swap-swap', 'score': 3},\n",
       "    {'repo_name': 'yurtsiv/meteor-ipfs-problem', 'score': 3},\n",
       "    {'repo_name': 'AliWisam/UniswapFork', 'score': 2},\n",
       "    {'repo_name': 'dealer-platform/dapp', 'score': 2},\n",
       "    {'repo_name': 'defiproject/gamerswap-interface-master', 'score': 2},\n",
       "    {'repo_name': 'dev-intellisoft/MetaMask', 'score': 2},\n",
       "    {'repo_name': 'lambofinance/lamboswap-contracts', 'score': 2},\n",
       "    {'repo_name': 'lambofinance/lamboswap-interface', 'score': 2},\n",
       "    {'repo_name': 'littbarskiadeh/ethereum-ipfs-react-app', 'score': 2},\n",
       "    {'repo_name': 'mattbspector/misoswap', 'score': 2},\n",
       "    {'repo_name': 'uzairmazhar/FYP-Backend', 'score': 2},\n",
       "    {'repo_name': 'withtally/Generic-Subgraph-Testing', 'score': 2},\n",
       "    {'repo_name': 'AditiSharma85/IPFS_Lab', 'score': 1},\n",
       "    {'repo_name': 'LordDraagonLive/Elan-Dapp', 'score': 1},\n",
       "    {'repo_name': 'OR13/chapi-siop.did.ai', 'score': 1},\n",
       "    {'repo_name': 'ZbayApp/waggle', 'score': 1},\n",
       "    {'repo_name': 'abhiyerra/ipswarm', 'score': 1},\n",
       "    {'repo_name': 'iroiro/token-with-manifesto', 'score': 1},\n",
       "    {'repo_name': 'monoceros-alpha/review-indexed-sigmacommittee-2021-02',\n",
       "     'score': 1},\n",
       "    {'repo_name': 'sslab-kmu/Fusion-Chain', 'score': 1}]}}]"
      ]
     },
     "execution_count": 5,
     "metadata": {},
     "output_type": "execute_result"
    }
   ],
   "source": [
    "data1"
   ]
  },
  {
   "cell_type": "code",
   "execution_count": 6,
   "id": "another-translation",
   "metadata": {},
   "outputs": [
    {
     "data": {
      "text/plain": [
       "'2021-02-15'"
      ]
     },
     "execution_count": 6,
     "metadata": {},
     "output_type": "execute_result"
    }
   ],
   "source": [
    "max([d['date'] for d in data1])"
   ]
  },
  {
   "cell_type": "code",
   "execution_count": 7,
   "id": "christian-skating",
   "metadata": {},
   "outputs": [
    {
     "name": "stdout",
     "output_type": "stream",
     "text": [
      "2021-02-15\n"
     ]
    }
   ],
   "source": [
    "# get list of users by state for the latest date\n",
    "latest_date = max([x2['date'] for x2 in data1])\n",
    "state_users_list1 = data1[[x1['date'] for x1 in data1].index(latest_date)]['states']\n",
    "state_users_list2 = data2[[x1['date'] for x1 in data2].index(latest_date)]['states']\n",
    "print(latest_date)"
   ]
  },
  {
   "cell_type": "markdown",
   "id": "iraqi-emergency",
   "metadata": {},
   "source": [
    "## high value users lists and diffs"
   ]
  },
  {
   "cell_type": "code",
   "execution_count": 8,
   "id": "unable-projector",
   "metadata": {
    "scrolled": true
   },
   "outputs": [
    {
     "name": "stdout",
     "output_type": "stream",
     "text": [
      "549869500/cuiswap\n",
      "AditiSharma85/IPFS_Lab\n",
      "AliWisam/UniswapFork\n",
      "BladeMcCool/IPFS-Social-Graph\n",
      "Darkstar04/DT\n",
      "Darkstar04/DT1\n",
      "Electronic-Signatures-Industries/xdv-universal-wallet\n",
      "EthTrader/donut.distribution\n",
      "KahanMajmudar/block-dem-chains\n",
      "LizetteO/IpFS-updater\n",
      "LordDraagonLive/Elan-Dapp\n",
      "ManishChain/itc2\n",
      "MauroMombelli/housekeeper\n",
      "OR13/chapi-siop.did.ai\n",
      "PatrickAlphaC/ipfs_cl_ea\n",
      "Reswap-DEX/reswap-interface\n",
      "SaneelDaniel/mock-DApp-dropbox\n",
      "TheRetrig/asclepius-vue-app\n",
      "Web3-API/web3hub\n",
      "ZbayApp/waggle\n",
      "abhiyerra/ipswarm\n",
      "aceblockID/aceblock-OIDC-client\n",
      "ajinkyapj/IPFS\n",
      "ajinkyapj/My-Projects\n",
      "bbepis/PoggerTTV\n",
      "btimby/nimtok\n",
      "dealer-platform/dapp\n",
      "defiproject/gamerswap-interface-master\n",
      "dev-intellisoft/MetaMask\n",
      "eh7/p2p-network\n",
      "ethereum-optimism/optimism-bridge-ui\n",
      "gagedex/bonsai\n",
      "iroiro/token-with-manifesto\n",
      "ivanms1/dapp-forge\n",
      "jacob-tucker/ReKt\n",
      "kimochi-project/mochi-swap-frontend\n",
      "lambofinance/lamboswap-contracts\n",
      "lambofinance/lamboswap-interface\n",
      "littbarskiadeh/ethereum-ipfs-react-app\n",
      "luxumbra/metafam-seed-pool\n",
      "mattbspector/misoswap\n",
      "monoceros-alpha/review-indexed-sigmacommittee-2021-02\n",
      "oatswap/oatswap-exchange-frontend\n",
      "plantimals/ipfsrss\n",
      "saltswap/salt-frontend-amm\n",
      "shitiz-dev/qait\n",
      "skilled-master/swap-swap\n",
      "sslab-kmu/Fusion-Chain\n",
      "taijusanagi/chocomint\n",
      "uzairmazhar/FYP-Backend\n",
      "windingtree/org.id-bot\n",
      "withtally/Generic-Subgraph-Testing\n",
      "wojciech-cichocki/libp2p\n",
      "yurtsiv/meteor-ipfs-problem\n"
     ]
    },
    {
     "data": {
      "text/plain": [
       "[None,\n",
       " None,\n",
       " None,\n",
       " None,\n",
       " None,\n",
       " None,\n",
       " None,\n",
       " None,\n",
       " None,\n",
       " None,\n",
       " None,\n",
       " None,\n",
       " None,\n",
       " None,\n",
       " None,\n",
       " None,\n",
       " None,\n",
       " None,\n",
       " None,\n",
       " None,\n",
       " None,\n",
       " None,\n",
       " None,\n",
       " None,\n",
       " None,\n",
       " None,\n",
       " None,\n",
       " None,\n",
       " None,\n",
       " None,\n",
       " None,\n",
       " None,\n",
       " None,\n",
       " None,\n",
       " None,\n",
       " None,\n",
       " None,\n",
       " None,\n",
       " None,\n",
       " None,\n",
       " None,\n",
       " None,\n",
       " None,\n",
       " None,\n",
       " None,\n",
       " None,\n",
       " None,\n",
       " None,\n",
       " None,\n",
       " None,\n",
       " None,\n",
       " None,\n",
       " None,\n",
       " None]"
      ]
     },
     "execution_count": 8,
     "metadata": {},
     "output_type": "execute_result"
    }
   ],
   "source": [
    "hv_users1 = [r['repo_name'] for r in state_users_list1['first']] #change to high value when we have the data\n",
    "[print(u) for u in sorted(hv_users1)]"
   ]
  },
  {
   "cell_type": "code",
   "execution_count": 9,
   "id": "eastern-jersey",
   "metadata": {
    "scrolled": true
   },
   "outputs": [
    {
     "name": "stdout",
     "output_type": "stream",
     "text": [
      "549869500/cuiswap\n",
      "AditiSharma85/IPFS_Lab\n",
      "AliWisam/UniswapFork\n",
      "BladeMcCool/IPFS-Social-Graph\n",
      "Darkstar04/DT\n",
      "Darkstar04/DT1\n",
      "Electronic-Signatures-Industries/xdv-universal-wallet\n",
      "EthTrader/donut.distribution\n",
      "KahanMajmudar/block-dem-chains\n",
      "LizetteO/IpFS-updater\n",
      "LordDraagonLive/Elan-Dapp\n",
      "ManishChain/itc2\n",
      "MauroMombelli/housekeeper\n",
      "OR13/chapi-siop.did.ai\n",
      "PatrickAlphaC/ipfs_cl_ea\n",
      "Reswap-DEX/reswap-interface\n",
      "SaneelDaniel/mock-DApp-dropbox\n",
      "TheRetrig/asclepius-vue-app\n",
      "Web3-API/web3hub\n",
      "ZbayApp/waggle\n",
      "abhiyerra/ipswarm\n",
      "aceblockID/aceblock-OIDC-client\n",
      "ajinkyapj/IPFS\n",
      "ajinkyapj/My-Projects\n",
      "bbepis/PoggerTTV\n",
      "btimby/nimtok\n",
      "dealer-platform/dapp\n",
      "defiproject/gamerswap-interface-master\n",
      "dev-intellisoft/MetaMask\n",
      "eh7/p2p-network\n",
      "ethereum-optimism/optimism-bridge-ui\n",
      "gagedex/bonsai\n",
      "iroiro/token-with-manifesto\n",
      "ivanms1/dapp-forge\n",
      "jacob-tucker/ReKt\n",
      "kimochi-project/mochi-swap-frontend\n",
      "lambofinance/lamboswap-contracts\n",
      "lambofinance/lamboswap-interface\n",
      "littbarskiadeh/ethereum-ipfs-react-app\n",
      "luxumbra/metafam-seed-pool\n",
      "mattbspector/misoswap\n",
      "monoceros-alpha/review-indexed-sigmacommittee-2021-02\n",
      "oatswap/oatswap-exchange-frontend\n",
      "plantimals/ipfsrss\n",
      "saltswap/salt-frontend-amm\n",
      "shitiz-dev/qait\n",
      "skilled-master/swap-swap\n",
      "sslab-kmu/Fusion-Chain\n",
      "taijusanagi/chocomint\n",
      "uzairmazhar/FYP-Backend\n",
      "windingtree/org.id-bot\n",
      "withtally/Generic-Subgraph-Testing\n",
      "wojciech-cichocki/libp2p\n",
      "yurtsiv/meteor-ipfs-problem\n"
     ]
    },
    {
     "data": {
      "text/plain": [
       "[None,\n",
       " None,\n",
       " None,\n",
       " None,\n",
       " None,\n",
       " None,\n",
       " None,\n",
       " None,\n",
       " None,\n",
       " None,\n",
       " None,\n",
       " None,\n",
       " None,\n",
       " None,\n",
       " None,\n",
       " None,\n",
       " None,\n",
       " None,\n",
       " None,\n",
       " None,\n",
       " None,\n",
       " None,\n",
       " None,\n",
       " None,\n",
       " None,\n",
       " None,\n",
       " None,\n",
       " None,\n",
       " None,\n",
       " None,\n",
       " None,\n",
       " None,\n",
       " None,\n",
       " None,\n",
       " None,\n",
       " None,\n",
       " None,\n",
       " None,\n",
       " None,\n",
       " None,\n",
       " None,\n",
       " None,\n",
       " None,\n",
       " None,\n",
       " None,\n",
       " None,\n",
       " None,\n",
       " None,\n",
       " None,\n",
       " None,\n",
       " None,\n",
       " None,\n",
       " None,\n",
       " None]"
      ]
     },
     "execution_count": 9,
     "metadata": {},
     "output_type": "execute_result"
    }
   ],
   "source": [
    "hv_users2 = [r['repo_name'] for r in state_users_list2['first']] #change to high value when we have the data\n",
    "[print(u) for u in sorted(hv_users2)]"
   ]
  },
  {
   "cell_type": "code",
   "execution_count": 10,
   "id": "valued-percentage",
   "metadata": {},
   "outputs": [
    {
     "ename": "NameError",
     "evalue": "name 'u' is not defined",
     "output_type": "error",
     "traceback": [
      "\u001b[0;31m---------------------------------------------------------------------------\u001b[0m",
      "\u001b[0;31mNameError\u001b[0m                                 Traceback (most recent call last)",
      "\u001b[0;32m<ipython-input-10-f8f5b79f93c8>\u001b[0m in \u001b[0;36m<module>\u001b[0;34m\u001b[0m\n\u001b[1;32m      1\u001b[0m \u001b[0;31m# high value users in list 1 that don't appear in list 2\u001b[0m\u001b[0;34m\u001b[0m\u001b[0;34m\u001b[0m\u001b[0;34m\u001b[0m\u001b[0m\n\u001b[0;32m----> 2\u001b[0;31m \u001b[0;34m[\u001b[0m\u001b[0mprint\u001b[0m\u001b[0;34m(\u001b[0m\u001b[0mu\u001b[0m\u001b[0;34m)\u001b[0m \u001b[0;32min\u001b[0m \u001b[0mlist\u001b[0m\u001b[0;34m(\u001b[0m\u001b[0mset\u001b[0m\u001b[0;34m(\u001b[0m\u001b[0mhv_users1\u001b[0m\u001b[0;34m)\u001b[0m \u001b[0;34m-\u001b[0m \u001b[0mset\u001b[0m\u001b[0;34m(\u001b[0m\u001b[0mhv_users2\u001b[0m\u001b[0;34m)\u001b[0m\u001b[0;34m)\u001b[0m\u001b[0;34m]\u001b[0m\u001b[0;34m\u001b[0m\u001b[0;34m\u001b[0m\u001b[0m\n\u001b[0m",
      "\u001b[0;31mNameError\u001b[0m: name 'u' is not defined"
     ]
    }
   ],
   "source": [
    "# high value users in list 1 that don't appear in list 2\n",
    "[print(u) in list(set(hv_users1) - set(hv_users2))]"
   ]
  },
  {
   "cell_type": "code",
   "execution_count": 11,
   "id": "professional-hudson",
   "metadata": {},
   "outputs": [
    {
     "data": {
      "text/plain": [
       "[]"
      ]
     },
     "execution_count": 11,
     "metadata": {},
     "output_type": "execute_result"
    }
   ],
   "source": [
    "# high value in list 2 that don't appear in list 1\n",
    "list(set(hv_users2) - set(hv_users1))"
   ]
  },
  {
   "cell_type": "markdown",
   "id": "varied-surgeon",
   "metadata": {},
   "source": [
    "## low value user lists and diffs"
   ]
  },
  {
   "cell_type": "code",
   "execution_count": 12,
   "id": "still-income",
   "metadata": {
    "scrolled": true
   },
   "outputs": [
    {
     "name": "stdout",
     "output_type": "stream",
     "text": [
      "549869500/cuiswap\n",
      "AditiSharma85/IPFS_Lab\n",
      "AliWisam/UniswapFork\n",
      "BladeMcCool/IPFS-Social-Graph\n",
      "Darkstar04/DT\n",
      "Darkstar04/DT1\n",
      "Electronic-Signatures-Industries/xdv-universal-wallet\n",
      "EthTrader/donut.distribution\n",
      "KahanMajmudar/block-dem-chains\n",
      "LizetteO/IpFS-updater\n",
      "LordDraagonLive/Elan-Dapp\n",
      "ManishChain/itc2\n",
      "MauroMombelli/housekeeper\n",
      "OR13/chapi-siop.did.ai\n",
      "PatrickAlphaC/ipfs_cl_ea\n",
      "Reswap-DEX/reswap-interface\n",
      "SaneelDaniel/mock-DApp-dropbox\n",
      "TheRetrig/asclepius-vue-app\n",
      "Web3-API/web3hub\n",
      "ZbayApp/waggle\n",
      "abhiyerra/ipswarm\n",
      "aceblockID/aceblock-OIDC-client\n",
      "ajinkyapj/IPFS\n",
      "ajinkyapj/My-Projects\n",
      "bbepis/PoggerTTV\n",
      "btimby/nimtok\n",
      "dealer-platform/dapp\n",
      "defiproject/gamerswap-interface-master\n",
      "dev-intellisoft/MetaMask\n",
      "eh7/p2p-network\n",
      "ethereum-optimism/optimism-bridge-ui\n",
      "gagedex/bonsai\n",
      "iroiro/token-with-manifesto\n",
      "ivanms1/dapp-forge\n",
      "jacob-tucker/ReKt\n",
      "kimochi-project/mochi-swap-frontend\n",
      "lambofinance/lamboswap-contracts\n",
      "lambofinance/lamboswap-interface\n",
      "littbarskiadeh/ethereum-ipfs-react-app\n",
      "luxumbra/metafam-seed-pool\n",
      "mattbspector/misoswap\n",
      "monoceros-alpha/review-indexed-sigmacommittee-2021-02\n",
      "oatswap/oatswap-exchange-frontend\n",
      "plantimals/ipfsrss\n",
      "saltswap/salt-frontend-amm\n",
      "shitiz-dev/qait\n",
      "skilled-master/swap-swap\n",
      "sslab-kmu/Fusion-Chain\n",
      "taijusanagi/chocomint\n",
      "uzairmazhar/FYP-Backend\n",
      "windingtree/org.id-bot\n",
      "withtally/Generic-Subgraph-Testing\n",
      "wojciech-cichocki/libp2p\n",
      "yurtsiv/meteor-ipfs-problem\n"
     ]
    },
    {
     "data": {
      "text/plain": [
       "[None,\n",
       " None,\n",
       " None,\n",
       " None,\n",
       " None,\n",
       " None,\n",
       " None,\n",
       " None,\n",
       " None,\n",
       " None,\n",
       " None,\n",
       " None,\n",
       " None,\n",
       " None,\n",
       " None,\n",
       " None,\n",
       " None,\n",
       " None,\n",
       " None,\n",
       " None,\n",
       " None,\n",
       " None,\n",
       " None,\n",
       " None,\n",
       " None,\n",
       " None,\n",
       " None,\n",
       " None,\n",
       " None,\n",
       " None,\n",
       " None,\n",
       " None,\n",
       " None,\n",
       " None,\n",
       " None,\n",
       " None,\n",
       " None,\n",
       " None,\n",
       " None,\n",
       " None,\n",
       " None,\n",
       " None,\n",
       " None,\n",
       " None,\n",
       " None,\n",
       " None,\n",
       " None,\n",
       " None,\n",
       " None,\n",
       " None,\n",
       " None,\n",
       " None,\n",
       " None,\n",
       " None]"
      ]
     },
     "execution_count": 12,
     "metadata": {},
     "output_type": "execute_result"
    }
   ],
   "source": [
    "lv_users1 = [r['repo_name'] for r in state_users_list1['first']] #change to high value when we have the data\n",
    "[print(u) for u in sorted(lv_users1)]"
   ]
  },
  {
   "cell_type": "code",
   "execution_count": 13,
   "id": "immune-novelty",
   "metadata": {
    "scrolled": true
   },
   "outputs": [
    {
     "name": "stdout",
     "output_type": "stream",
     "text": [
      "549869500/cuiswap\n",
      "AditiSharma85/IPFS_Lab\n",
      "AliWisam/UniswapFork\n",
      "BladeMcCool/IPFS-Social-Graph\n",
      "Darkstar04/DT\n",
      "Darkstar04/DT1\n",
      "Electronic-Signatures-Industries/xdv-universal-wallet\n",
      "EthTrader/donut.distribution\n",
      "KahanMajmudar/block-dem-chains\n",
      "LizetteO/IpFS-updater\n",
      "LordDraagonLive/Elan-Dapp\n",
      "ManishChain/itc2\n",
      "MauroMombelli/housekeeper\n",
      "OR13/chapi-siop.did.ai\n",
      "PatrickAlphaC/ipfs_cl_ea\n",
      "Reswap-DEX/reswap-interface\n",
      "SaneelDaniel/mock-DApp-dropbox\n",
      "TheRetrig/asclepius-vue-app\n",
      "Web3-API/web3hub\n",
      "ZbayApp/waggle\n",
      "abhiyerra/ipswarm\n",
      "aceblockID/aceblock-OIDC-client\n",
      "ajinkyapj/IPFS\n",
      "ajinkyapj/My-Projects\n",
      "bbepis/PoggerTTV\n",
      "btimby/nimtok\n",
      "dealer-platform/dapp\n",
      "defiproject/gamerswap-interface-master\n",
      "dev-intellisoft/MetaMask\n",
      "eh7/p2p-network\n",
      "ethereum-optimism/optimism-bridge-ui\n",
      "gagedex/bonsai\n",
      "iroiro/token-with-manifesto\n",
      "ivanms1/dapp-forge\n",
      "jacob-tucker/ReKt\n",
      "kimochi-project/mochi-swap-frontend\n",
      "lambofinance/lamboswap-contracts\n",
      "lambofinance/lamboswap-interface\n",
      "littbarskiadeh/ethereum-ipfs-react-app\n",
      "luxumbra/metafam-seed-pool\n",
      "mattbspector/misoswap\n",
      "monoceros-alpha/review-indexed-sigmacommittee-2021-02\n",
      "oatswap/oatswap-exchange-frontend\n",
      "plantimals/ipfsrss\n",
      "saltswap/salt-frontend-amm\n",
      "shitiz-dev/qait\n",
      "skilled-master/swap-swap\n",
      "sslab-kmu/Fusion-Chain\n",
      "taijusanagi/chocomint\n",
      "uzairmazhar/FYP-Backend\n",
      "windingtree/org.id-bot\n",
      "withtally/Generic-Subgraph-Testing\n",
      "wojciech-cichocki/libp2p\n",
      "yurtsiv/meteor-ipfs-problem\n"
     ]
    },
    {
     "data": {
      "text/plain": [
       "[None,\n",
       " None,\n",
       " None,\n",
       " None,\n",
       " None,\n",
       " None,\n",
       " None,\n",
       " None,\n",
       " None,\n",
       " None,\n",
       " None,\n",
       " None,\n",
       " None,\n",
       " None,\n",
       " None,\n",
       " None,\n",
       " None,\n",
       " None,\n",
       " None,\n",
       " None,\n",
       " None,\n",
       " None,\n",
       " None,\n",
       " None,\n",
       " None,\n",
       " None,\n",
       " None,\n",
       " None,\n",
       " None,\n",
       " None,\n",
       " None,\n",
       " None,\n",
       " None,\n",
       " None,\n",
       " None,\n",
       " None,\n",
       " None,\n",
       " None,\n",
       " None,\n",
       " None,\n",
       " None,\n",
       " None,\n",
       " None,\n",
       " None,\n",
       " None,\n",
       " None,\n",
       " None,\n",
       " None,\n",
       " None,\n",
       " None,\n",
       " None,\n",
       " None,\n",
       " None,\n",
       " None]"
      ]
     },
     "execution_count": 13,
     "metadata": {},
     "output_type": "execute_result"
    }
   ],
   "source": [
    "lv_users2 = [r['repo_name'] for r in state_users_list2['first']] #change to high value when we have the data\n",
    "[print(u) for u in sorted(lv_users2)]"
   ]
  },
  {
   "cell_type": "code",
   "execution_count": 15,
   "id": "invalid-dimension",
   "metadata": {},
   "outputs": [
    {
     "data": {
      "text/plain": [
       "[]"
      ]
     },
     "execution_count": 15,
     "metadata": {},
     "output_type": "execute_result"
    }
   ],
   "source": [
    "# high value users in list 1 that don't appear in list 2\n",
    "[print(u) for u in list(set(lv_users1) - set(lv_users2))]"
   ]
  },
  {
   "cell_type": "code",
   "execution_count": 16,
   "id": "resistant-corruption",
   "metadata": {
    "scrolled": true
   },
   "outputs": [
    {
     "data": {
      "text/plain": [
       "[]"
      ]
     },
     "execution_count": 16,
     "metadata": {},
     "output_type": "execute_result"
    }
   ],
   "source": [
    "# high value in list 2 that don't appear in list 1\n",
    "[print(u) for u in list(set(lv_users2) - set(lv_users1))]"
   ]
  },
  {
   "cell_type": "markdown",
   "id": "cosmetic-tragedy",
   "metadata": {},
   "source": [
    "## validate against specific users over time"
   ]
  },
  {
   "cell_type": "code",
   "execution_count": 17,
   "id": "listed-bosnia",
   "metadata": {},
   "outputs": [],
   "source": [
    "# input list\n",
    "hv_calibration = [\n",
    "    #tachyon\n",
    "    'valist-io/valist',\n",
    "    'kotalco/kotal', #not always active\n",
    "    'voodfy/voodfy-transcoder',\n",
    "    'ParcelHQ/parcel',\n",
    "    'Secured-Finance/dione',\n",
    "    #infinite scroll\n",
    "    'glifio/wallet',\n",
    "    'glifio/verifier',\n",
    "    'glifio/faucet',\n",
    "    #test\n",
    "    'AditiSharma85/IPFS_Lab'\n",
    "]"
   ]
  },
  {
   "cell_type": "code",
   "execution_count": 18,
   "id": "fewer-boundary",
   "metadata": {},
   "outputs": [],
   "source": [
    "hv_calibration_results = {\n",
    "    u: {\n",
    "        data['date']:state \n",
    "            for data in data1 \n",
    "            for state, user_data in data['states'].items()\n",
    "            for entry in user_data\n",
    "            if u in entry['repo_name']\n",
    "    }\n",
    "for u in hv_calibration}"
   ]
  },
  {
   "cell_type": "code",
   "execution_count": 19,
   "id": "yellow-kinase",
   "metadata": {},
   "outputs": [
    {
     "name": "stdout",
     "output_type": "stream",
     "text": [
      "{\n",
      "   \"valist-io/valist\": {},\n",
      "   \"kotalco/kotal\": {},\n",
      "   \"voodfy/voodfy-transcoder\": {},\n",
      "   \"ParcelHQ/parcel\": {},\n",
      "   \"Secured-Finance/dione\": {},\n",
      "   \"glifio/wallet\": {},\n",
      "   \"glifio/verifier\": {},\n",
      "   \"glifio/faucet\": {},\n",
      "   \"AditiSharma85/IPFS_Lab\": {\n",
      "      \"2021-02-15\": \"first\"\n",
      "   }\n",
      "}\n"
     ]
    }
   ],
   "source": [
    "print(json.dumps(hv_calibration_results, indent=3))"
   ]
  }
 ],
 "metadata": {
  "kernelspec": {
   "display_name": "data-analysis",
   "language": "python",
   "name": "data-analysis"
  },
  "language_info": {
   "codemirror_mode": {
    "name": "ipython",
    "version": 3
   },
   "file_extension": ".py",
   "mimetype": "text/x-python",
   "name": "python",
   "nbconvert_exporter": "python",
   "pygments_lexer": "ipython3",
   "version": "3.8.5"
  }
 },
 "nbformat": 4,
 "nbformat_minor": 5
}
